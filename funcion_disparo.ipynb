{
 "cells": [
  {
   "cell_type": "code",
   "execution_count": null,
   "metadata": {},
   "outputs": [],
   "source": [
    "import numpy as np\n",
    "\n",
    "flota = np.full((10,10), (\" \"))\n",
    "\n",
    "flota[0,1] = \"O\"\n",
    "flota[1,1] = \"O\"\n",
    "flota[1,3] = \"O\"\n",
    "flota[1,4] = \"O\"\n",
    "flota[1,5] = \"O\"\n",
    "flota[1,6] = \"O\"\n",
    "\n",
    "print(flota)\n",
    "print()\n",
    "\n",
    "flota[1,4] = \"X\"\n",
    "flota[2,1] = \"-\"\n",
    "\n",
    "print(flota)"
   ]
  },
  {
   "cell_type": "code",
   "execution_count": null,
   "metadata": {},
   "outputs": [],
   "source": [
    "# from operator import index\n",
    "# import numpy as np\n",
    "# while True:\n",
    "#         if (pos_x >=0 and pos_x<=9) and (pos_y>=0 and pos_y<=9):\n",
    "#                 pos_x = int(input(\"Introduzca posicion X:(Valores entre 0 y 9)\"))\n",
    "#                 pos_y = int(input(\"Introduzca posicion Y:(Valores entre 0 y 9)\"))\n",
    "\n",
    "# tablero[1,5]=\"O\"\n",
    "# tablero = np.full(fill_value = ' ', shape = (10, 10))\n",
    "\n",
    "\n",
    "# if tablero== \"X\"\n",
    "#         print()\n",
    "# elif tablero==0\n",
    "\n",
    "# else\n",
    "\n",
    "\n",
    "# for x in tablero:\n",
    "#         for y in tablero:\n",
    "#                  #tablero[pos_x,pos_y] == 'X'\n",
    "\n",
    "#                 if  (tablero[pos_x,pos_y] == 'X'):\n",
    "#                         print(\"Posicion ocupada con disparo\")\n",
    "#                         pos_x = int(input(\"vuelva a introducir disparo en posicion X:(Valores entre 0 y 9)\"))\n",
    "#                         pos_y = int(input(\"vuelva a introducir disparo en posicion Y:(Valores entre 0 y 9)\"))\n",
    "#                 elif tablero[pos_x,pos_y] == 'O':\n",
    "#                         print(\"impacto\")\n",
    "                \n",
    "#                 else:\n",
    "#                       break\n",
    "\n",
    "    \n",
    "# print(tablero)\n"
   ]
  },
  {
   "cell_type": "code",
   "execution_count": 14,
   "metadata": {},
   "outputs": [],
   "source": [
    "import numpy as np \n",
    "\n",
    "tablero = np.full((10,10), (\" \"))\n",
    "\n",
    "tablero[0,1] = \"O\"\n",
    "tablero[1,1] = \"O\"\n",
    "tablero[1,3] = \"O\"\n",
    "tablero[1,4] = \"O\"\n",
    "tablero[1,5] = \"O\"\n",
    "tablero[1,6] = \"O\""
   ]
  },
  {
   "cell_type": "code",
   "execution_count": 37,
   "metadata": {},
   "outputs": [
    {
     "ename": "IndentationError",
     "evalue": "expected an indented block (1562222904.py, line 13)",
     "output_type": "error",
     "traceback": [
      "\u001b[1;36m  File \u001b[1;32m\"C:\\Users\\usuario\\AppData\\Local\\Temp\\ipykernel_1332\\1562222904.py\"\u001b[1;36m, line \u001b[1;32m13\u001b[0m\n\u001b[1;33m    tablero[np.where(tablero == \"O\")[0][0], np.where(tablero == \"O\")[1][0]] = \"X\"\u001b[0m\n\u001b[1;37m          ^\u001b[0m\n\u001b[1;31mIndentationError\u001b[0m\u001b[1;31m:\u001b[0m expected an indented block\n"
     ]
    }
   ],
   "source": [
    "import numpy as np\n",
    "\n",
    "x = int(input(\"Introduzca posicion X:(Valores entre 0 y 9)\"))\n",
    "y = int(input(\"Introduzca posicion Y:(Valores entre 0 y 9)\"))\n",
    "       \n",
    "if (x < 0 and x > 9) and (y < 0 and y > 9): \n",
    "    x = int(input(\"Introduzca posicion X:(Valores entre 0 y 9)\"))\n",
    "    y = int(input(\"Introduzca posicion Y:(Valores entre 0 y 9)\"))\n",
    "\n",
    "def disparo(x,y):\n",
    "\n",
    "# 3. Recibe un disparo en uno de los barcos, sustituyendo la O por una X\n",
    "tablero[np.where(tablero == \"O\")[0][0], np.where(tablero == \"O\")[1][0]] = \"X\"\n",
    "\n",
    "\n",
    "# 4. Recibe un disparo en agua, sustituyendo uno de los espacios por un guión: -\n",
    "tablero[np.where(tablero != \"O\")[0][5], np.where(tablero != \"O\")[1][7]] = \"_\"\n",
    "\n",
    "  \n",
    "return tablero\n"
   ]
  },
  {
   "cell_type": "code",
   "execution_count": 28,
   "metadata": {},
   "outputs": [
    {
     "ename": "NameError",
     "evalue": "name 'i' is not defined",
     "output_type": "error",
     "traceback": [
      "\u001b[1;31m---------------------------------------------------------------------------\u001b[0m",
      "\u001b[1;31mNameError\u001b[0m                                 Traceback (most recent call last)",
      "\u001b[1;32m~\\AppData\\Local\\Temp\\ipykernel_1332\\3388049151.py\u001b[0m in \u001b[0;36m<module>\u001b[1;34m\u001b[0m\n\u001b[1;32m----> 1\u001b[1;33m \u001b[0mprint\u001b[0m\u001b[1;33m(\u001b[0m\u001b[0mdisparo\u001b[0m\u001b[1;33m(\u001b[0m\u001b[0mx\u001b[0m\u001b[1;33m,\u001b[0m\u001b[0my\u001b[0m\u001b[1;33m)\u001b[0m\u001b[1;33m)\u001b[0m\u001b[1;33m\u001b[0m\u001b[1;33m\u001b[0m\u001b[0m\n\u001b[0m",
      "\u001b[1;32m~\\AppData\\Local\\Temp\\ipykernel_1332\\1038887728.py\u001b[0m in \u001b[0;36mdisparo\u001b[1;34m(x, y)\u001b[0m\n\u001b[0;32m     15\u001b[0m     \u001b[1;31m# x = tablero[i]\u001b[0m\u001b[1;33m\u001b[0m\u001b[1;33m\u001b[0m\u001b[1;33m\u001b[0m\u001b[0m\n\u001b[0;32m     16\u001b[0m     \u001b[1;31m# y = tablero[j]\u001b[0m\u001b[1;33m\u001b[0m\u001b[1;33m\u001b[0m\u001b[1;33m\u001b[0m\u001b[0m\n\u001b[1;32m---> 17\u001b[1;33m     \u001b[1;32mfor\u001b[0m \u001b[0mx\u001b[0m \u001b[1;32min\u001b[0m \u001b[0mtablero\u001b[0m\u001b[1;33m[\u001b[0m\u001b[0mi\u001b[0m\u001b[1;33m]\u001b[0m\u001b[1;33m:\u001b[0m\u001b[1;33m\u001b[0m\u001b[1;33m\u001b[0m\u001b[0m\n\u001b[0m\u001b[0;32m     18\u001b[0m         \u001b[1;32mfor\u001b[0m \u001b[0my\u001b[0m \u001b[1;32min\u001b[0m \u001b[0mtablero\u001b[0m\u001b[1;33m[\u001b[0m\u001b[0mj\u001b[0m\u001b[1;33m]\u001b[0m\u001b[1;33m:\u001b[0m\u001b[1;33m\u001b[0m\u001b[1;33m\u001b[0m\u001b[0m\n\u001b[0;32m     19\u001b[0m \u001b[1;33m\u001b[0m\u001b[0m\n",
      "\u001b[1;31mNameError\u001b[0m: name 'i' is not defined"
     ]
    }
   ],
   "source": [
    "print(disparo(x,y))     "
   ]
  },
  {
   "cell_type": "code",
   "execution_count": null,
   "metadata": {},
   "outputs": [],
   "source": []
  }
 ],
 "metadata": {
  "kernelspec": {
   "display_name": "Python 3.7.4 64-bit",
   "language": "python",
   "name": "python3"
  },
  "language_info": {
   "codemirror_mode": {
    "name": "ipython",
    "version": 3
   },
   "file_extension": ".py",
   "mimetype": "text/x-python",
   "name": "python",
   "nbconvert_exporter": "python",
   "pygments_lexer": "ipython3",
   "version": "3.7.4"
  },
  "orig_nbformat": 4,
  "vscode": {
   "interpreter": {
    "hash": "b213cd0c7dc86fb09f7378e09d09f37ed50992d496516f682658e1f7568be4e1"
   }
  }
 },
 "nbformat": 4,
 "nbformat_minor": 2
}
