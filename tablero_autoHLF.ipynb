{
 "cells": [
  {
   "cell_type": "code",
   "execution_count": 1,
   "metadata": {},
   "outputs": [],
   "source": [
    "import random\n",
    "import numpy as np\n",
    "\n",
    "\n",
    "def crear_tablero():\n",
    "\n",
    "    \n",
    "     \n",
    "\n",
    "    tablero = np.full((10, 10), ' ')\n",
    "    eslora = [1, 1, 1, 1, 2, 2, 2, 3, 3, 4]\n",
    "    counter = len(eslora)\n",
    "    \n",
    "\n",
    "    while counter > 0 :\n",
    "        orient = random.choice(['N','S','E','O'])\n",
    "        posicion_aleatoria = np.random.randint(10, size =2)\n",
    "        fila = posicion_aleatoria[0]\n",
    "        columna = posicion_aleatoria[1]\n",
    "\n",
    "        # Recogemos las 4 posiciones colindantes a posicion aleatoria\n",
    "    \n",
    "\n",
    "        # Comprobamos si esas posiciones son validas\n",
    "        for i in eslora:\n",
    "            coors_posiN = tablero[fila:fila - i:-1, columna]\n",
    "            coors_posiE = tablero[fila, columna: columna + i]\n",
    "            coors_posiS = tablero[fila:fila + i, columna]\n",
    "            coors_posiO = tablero[fila, columna: columna - i:-1]\n",
    "        # Orientacion Norte\n",
    "            if orient == 'N' and 0 <= fila - i < 10 and 'O' not in coors_posiN:\n",
    "                tablero[fila:fila - i:-1, columna] = 'O'\n",
    "                counter = counter -1\n",
    "                eslora.remove(i)\n",
    "                continue\n",
    "\n",
    "        # Orientacion Este\n",
    "            elif orient == 'E' and 0 <= columna + i < 10 and 'O' not in coors_posiE:\n",
    "                tablero[fila, columna: columna + i] = 'O'\n",
    "                counter = counter -1\n",
    "                eslora.remove(i)\n",
    "                continue\n",
    "\n",
    "        # Orientacion Sur\n",
    "            elif orient == 'S' and 0 <= fila + i < 10 and 'O' not in coors_posiS:\n",
    "                tablero[fila:fila + i, columna] = 'O'\n",
    "                counter = counter -1\n",
    "                eslora.remove(i)\n",
    "                continue\n",
    "\n",
    "        # Orientacion Oeste\n",
    "            elif orient == 'O' and 0 <= columna - i < 10 and 'O' not in coors_posiO:\n",
    "                tablero[fila, columna: columna - i:-1] = 'O'\n",
    "                counter = counter - 1\n",
    "                eslora.remove(i)\n",
    "                continue\n",
    "\n",
    "        # No cumple con las dimensiones del tablero, o hay un barco ahi\n",
    "    # Probamos con otra coordenada\n",
    "        \n",
    "    return tablero"
   ]
  },
  {
   "cell_type": "code",
   "execution_count": 3,
   "metadata": {},
   "outputs": [
    {
     "data": {
      "text/plain": [
       "array([[' ', ' ', ' ', 'O', ' ', ' ', ' ', ' ', ' ', ' '],\n",
       "       ['O', 'O', 'O', 'O', ' ', ' ', ' ', ' ', ' ', ' '],\n",
       "       [' ', ' ', ' ', ' ', ' ', ' ', 'O', ' ', ' ', ' '],\n",
       "       [' ', 'O', ' ', 'O', ' ', ' ', 'O', ' ', ' ', ' '],\n",
       "       [' ', 'O', ' ', ' ', ' ', ' ', 'O', ' ', ' ', ' '],\n",
       "       [' ', ' ', ' ', ' ', ' ', ' ', ' ', ' ', ' ', ' '],\n",
       "       [' ', 'O', ' ', ' ', ' ', 'O', ' ', ' ', ' ', ' '],\n",
       "       [' ', ' ', ' ', ' ', ' ', 'O', 'O', 'O', ' ', ' '],\n",
       "       [' ', 'O', 'O', ' ', ' ', ' ', ' ', ' ', ' ', ' '],\n",
       "       [' ', ' ', 'O', 'O', ' ', ' ', ' ', ' ', ' ', ' ']], dtype='<U1')"
      ]
     },
     "execution_count": 3,
     "metadata": {},
     "output_type": "execute_result"
    }
   ],
   "source": [
    "crear_tablero()"
   ]
  },
  {
   "cell_type": "code",
   "execution_count": null,
   "metadata": {},
   "outputs": [],
   "source": []
  }
 ],
 "metadata": {
  "kernelspec": {
   "display_name": "Python 3.7.4 64-bit",
   "language": "python",
   "name": "python3"
  },
  "language_info": {
   "codemirror_mode": {
    "name": "ipython",
    "version": 3
   },
   "file_extension": ".py",
   "mimetype": "text/x-python",
   "name": "python",
   "nbconvert_exporter": "python",
   "pygments_lexer": "ipython3",
   "version": "3.7.4"
  },
  "orig_nbformat": 4,
  "vscode": {
   "interpreter": {
    "hash": "b213cd0c7dc86fb09f7378e09d09f37ed50992d496516f682658e1f7568be4e1"
   }
  }
 },
 "nbformat": 4,
 "nbformat_minor": 2
}
