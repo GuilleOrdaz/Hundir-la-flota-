{
 "cells": [
  {
   "cell_type": "markdown",
   "metadata": {},
   "source": [
    "![Portada](./hundir-la-flota-juego-de-mesa.jpg)\n",
    "### **JUEGO HUNDIR LA FLOTA EN PYTHON**\n",
    "Este es un programa básico que simula el juego 'Hundir la flota' ('Battleship'), desarrollado en lenguaje Python(3).\n",
    "El juego empieza a ejecutarse con el archivo _main_.py\n",
    "Comienza por la generación de tableros, con un tamaño de 10 x 10, donde se generará aleatoriamente 10 barcos mediante el tamaño de sus esloras, un total de 20:\n",
    "* 4 barcos de 1 posición de eslora\n",
    "* 3 barcos de 2 posiciones de eslora\n",
    "* 2 barcos de 3 posiciones de eslora\n",
    "* 1 barco de 4 posiciones de eslora\n",
    "\n",
    "El lugar de los barcos, se mostrarán como 'O' en el tablero.\n",
    "Se generarán cuatro tableros, dos de ellos con generación de barcos aleatorios, uno para el jugador 1, y otro para el jugador 2, que en esta versión será la máquina, más dos tableros más vacíos.\n",
    "Al jugador 1 por pantalla se mostrarán dos tableros:\n",
    "  *   El tablero_vacio es una copia del tablero_disparos_jugador1, donde están los barcos del jugador 2, y donde se irá registrando los movimientos de disparos que ejecute el jugador 1, registrando una 'X' donde coincida con un barco, 'O', y registrando '-' cuando el jugador 1 de en agua.\n",
    "  \n",
    "  * el tablero_auto_disparos, que corresponde al tablero con las posiciones de nuestros barcos, visibles para nosotros.\n",
    "\n",
    "### Acción del juego:\n",
    "La persona que comienza a tirar será el jugador 1, mediante la llamada de jugador1.py.\n",
    "se le pedirá que ingrese el número del 0 al 9 de la fila, y lo mismo para la columna. \n",
    "Estas coordenadas se registran y buscarán en el tablero_disparos_jugador1 si encuentra barco('O'), o agua('A'). Si el jugador 1 acierta en barco, seguirá tirando hasta que coincida con agua y pase el turno al jugador 2.\n",
    "\n",
    "El jugador 2, como hemos dicho anteriormente, en esta versión corresponde a la máquina, e introducirá coordenadas de forma aleatoria hacia el tablero del jugador 1, y la dinámica de turno es la misma que la mencionada con el jugador 1.\n",
    "\n",
    "### Final\n",
    "El juego acaba cuando uno de los dos jugadores acaben con todos los barcos del contrario, es decir, cuando ya no haya 'O' en el tablero de algunos de los jugadores, y mostrará por pantalla al jugador 1 si ha sido vencedor o perdedor. \n",
    "En el caso de que el jugador 2 se quede sin barcos, el jugador 1 será el ganador.\n",
    "\n",
    "### REALIZADO POR:\n",
    "\n",
    "  * Mª Angeles Naranjo \n",
    "  * Guillermo Martín\n",
    "  * Alberto Lázaro\n",
    "  * Mario Ochoa\n"
   ]
  },
  {
   "cell_type": "markdown",
   "metadata": {},
   "source": []
  },
  {
   "cell_type": "markdown",
   "metadata": {},
   "source": []
  }
 ],
 "metadata": {
  "kernelspec": {
   "display_name": "Python 3.7.4 64-bit",
   "language": "python",
   "name": "python3"
  },
  "language_info": {
   "name": "python",
   "version": "3.7.4"
  },
  "orig_nbformat": 4,
  "vscode": {
   "interpreter": {
    "hash": "b213cd0c7dc86fb09f7378e09d09f37ed50992d496516f682658e1f7568be4e1"
   }
  }
 },
 "nbformat": 4,
 "nbformat_minor": 2
}
