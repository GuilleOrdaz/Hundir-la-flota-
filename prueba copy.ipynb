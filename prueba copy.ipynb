{
 "cells": [
  {
   "cell_type": "code",
   "execution_count": 35,
   "metadata": {},
   "outputs": [],
   "source": [
    "import numpy as np\n",
    "import random"
   ]
  },
  {
   "cell_type": "code",
   "execution_count": 36,
   "metadata": {},
   "outputs": [
    {
     "data": {
      "text/plain": [
       "array([[' ', ' ', ' ', ' ', ' ', ' ', ' ', ' ', ' ', ' '],\n",
       "       [' ', 'O', ' ', ' ', ' ', ' ', ' ', ' ', ' ', ' '],\n",
       "       [' ', ' ', ' ', ' ', ' ', 'O', ' ', ' ', ' ', ' '],\n",
       "       [' ', ' ', 'O', ' ', ' ', 'O', ' ', ' ', ' ', 'O'],\n",
       "       [' ', ' ', 'O', ' ', 'O', 'O', 'O', ' ', ' ', ' '],\n",
       "       [' ', ' ', 'O', ' ', 'O', 'O', 'O', ' ', ' ', ' '],\n",
       "       [' ', ' ', ' ', ' ', ' ', 'O', 'O', ' ', ' ', ' '],\n",
       "       [' ', ' ', ' ', ' ', ' ', 'O', ' ', ' ', ' ', ' '],\n",
       "       [' ', ' ', ' ', ' ', 'O', 'O', ' ', ' ', 'O', 'O'],\n",
       "       [' ', ' ', ' ', ' ', ' ', ' ', ' ', ' ', ' ', ' ']], dtype='<U1')"
      ]
     },
     "execution_count": 36,
     "metadata": {},
     "output_type": "execute_result"
    }
   ],
   "source": [
    "def posicion_barcos(): #Definimos la posición de los barcos dentro del tablero\n",
    "\n",
    "    tablero = np.full((10, 10), ' ')        #Creamos nuestro tablero, de tamaño 10x10 vacío\n",
    "    barcos = [1, 1, 1, 1, 2, 2, 2, 3, 3, 4] #Creamos una lista donde integramos las esloras de nuestros 10 barcos\n",
    "\n",
    "    \n",
    "    counter = len(barcos)  #Hacemos conteo con len en la lista anterior que hemos creado, para que vaya iterando por cada eslora de la lista\n",
    "\n",
    "    while counter > 0:  #Mientras el conteo de los barcos, que son 10 en total, no sea 0, recorremos la lista para integrarlos en el tablero\n",
    "\n",
    "        \"\"\"\n",
    "        Creamos las orientaciones de forma aleatorias, dando las orientaciones:\n",
    "            # Oe = Oeste\n",
    "            # S = Sur\n",
    "            # N = Norte\n",
    "            # E = Este   \n",
    "        \"\"\"\n",
    "        orient = random.choice(['Oe', 'S', 'N', 'E']) \n",
    "\n",
    "        # Le decimos que nos de una coordenada en un rango hasta 10 (como el maximo de nuestro tablero),\n",
    "        # con un tamaño de 2, es decir, 2 numeros que serán nuestras coordenadas: la fila y la columna.\n",
    "\n",
    "        current_pos = np.random.randint(10, size = 2)\n",
    "        fila = current_pos[0] # Designamos que en los 2 valores que nos de de posicion, fila es el primer valor\n",
    "        columna = current_pos[1] # Y a su vez, decimos que el valor de la columna es el segundo numero de la posicion\n",
    "        \n",
    "        \n",
    "        for i in barcos: # Para cada tamaño de la eslora en los barcos\n",
    "            if orient == 'Oe' and (i <= len(range(columna, 0, -1))) and ('O' not in tablero[fila, columna:columna - i:-1]):\n",
    "                tablero[fila, columna:columna - i:-1] = 'O'\n",
    "                counter = counter - 1\n",
    "                barcos.remove(i)\n",
    "            elif orient == 'E' and (i <= len(range(columna, 10))) and ('O' not in tablero[fila, columna:columna + i]):\n",
    "                tablero[fila, columna:columna + i] = 'O'\n",
    "                counter = counter - 1\n",
    "                barcos.remove(i)\n",
    "            elif orient == 'S' and (i <= len(range(fila, 10))) and ('O' not in tablero[fila:fila + i, columna]):\n",
    "                tablero[fila: fila + i, columna] = 'O'\n",
    "                counter = counter - 1\n",
    "                barcos.remove(i)\n",
    "            elif orient == 'N' and (i <= len(range(fila, 0, -1))) and ('O' not in tablero[fila:fila - i:-1, columna]):\n",
    "                tablero[fila:fila - i:-1, columna] = 'O'\n",
    "                counter = counter - 1\n",
    "                barcos.remove(i)\n",
    "    return tablero\n",
    "posicion_barcos()"
   ]
  },
  {
   "cell_type": "code",
   "execution_count": 39,
   "metadata": {},
   "outputs": [
    {
     "data": {
      "text/plain": [
       "array([[' ', ' ', ' ', ' ', ' ', ' ', ' ', 'O', ' ', ' '],\n",
       "       [' ', ' ', 'O', ' ', 'O', 'O', ' ', ' ', 'O', ' '],\n",
       "       [' ', ' ', ' ', ' ', ' ', ' ', ' ', ' ', 'O', ' '],\n",
       "       [' ', ' ', ' ', ' ', ' ', ' ', ' ', ' ', ' ', ' '],\n",
       "       [' ', ' ', ' ', ' ', ' ', ' ', ' ', ' ', ' ', ' '],\n",
       "       [' ', 'O', 'O', 'O', 'O', ' ', 'O', 'O', 'O', ' '],\n",
       "       [' ', 'O', ' ', ' ', ' ', ' ', 'O', ' ', ' ', ' '],\n",
       "       [' ', 'O', ' ', ' ', ' ', ' ', ' ', ' ', ' ', ' '],\n",
       "       [' ', 'O', 'O', 'O', 'O', ' ', ' ', ' ', ' ', ' '],\n",
       "       [' ', ' ', ' ', ' ', ' ', ' ', ' ', ' ', ' ', ' ']], dtype='<U1')"
      ]
     },
     "execution_count": 39,
     "metadata": {},
     "output_type": "execute_result"
    }
   ],
   "source": [
    "tablero_auto_disp = tablero1.copy()\n",
    "tablero_jugador_disp = tablero2.copy()\n",
    "\n",
    "tablero_vacio = np.full((10,10,), \" \")\n",
    "    \n",
    "tablero_vacio2 = np.full((10,10,), \" \")\n",
    "\n",
    "tablero_jugador_disp\n"
   ]
  },
  {
   "cell_type": "code",
   "execution_count": 45,
   "metadata": {},
   "outputs": [
    {
     "name": "stdout",
     "output_type": "stream",
     "text": [
      "[[' ' ' ' ' ' ' ' ' ' ' ' ' ' ' ' ' ' ' ']\n",
      " [' ' ' ' ' ' 'O' ' ' ' ' ' ' ' ' ' ' ' ']\n",
      " [' ' ' ' ' ' 'O' ' ' ' ' ' ' ' ' 'O' ' ']\n",
      " [' ' ' ' ' ' 'O' ' ' ' ' ' ' ' ' ' ' ' ']\n",
      " [' ' ' ' 'O' 'O' 'O' 'O' ' ' ' ' ' ' ' ']\n",
      " [' ' 'O' ' ' ' ' ' ' ' ' ' ' ' ' ' ' 'O']\n",
      " [' ' 'O' ' ' ' ' ' ' ' ' 'O' ' ' ' ' 'O']\n",
      " ['O' ' ' ' ' ' ' ' ' ' ' ' ' ' ' ' ' ' ']\n",
      " ['O' ' ' ' ' ' ' 'O' 'O' 'O' 'O' 'O' ' ']\n",
      " [' ' ' ' ' ' ' ' ' ' ' ' ' ' ' ' ' ' ' ']]\n",
      "Tablero de la maquina\n",
      " [[' ' ' ' ' ' ' ' ' ' ' ' ' ' ' ' ' ' ' ']\n",
      " [' ' ' ' ' ' ' ' ' ' ' ' ' ' ' ' ' ' ' ']\n",
      " [' ' ' ' ' ' ' ' 'A' ' ' ' ' ' ' ' ' ' ']\n",
      " [' ' ' ' ' ' ' ' ' ' ' ' ' ' ' ' ' ' ' ']\n",
      " [' ' ' ' 'A' 'A' ' ' ' ' ' ' ' ' ' ' ' ']\n",
      " [' ' ' ' ' ' ' ' ' ' ' ' ' ' ' ' ' ' ' ']\n",
      " [' ' ' ' ' ' ' ' ' ' ' ' ' ' ' ' ' ' ' ']\n",
      " [' ' ' ' ' ' ' ' ' ' ' ' ' ' ' ' ' ' ' ']\n",
      " [' ' ' ' ' ' 'X' 'X' ' ' ' ' ' ' ' ' ' ']\n",
      " [' ' ' ' ' ' ' ' ' ' ' ' ' ' ' ' ' ' ' ']]\n",
      "Tablero de la maquina\n",
      " Has dado en el blanco!\n",
      " [[' ' ' ' ' ' ' ' ' ' ' ' ' ' ' ' ' ' ' ']\n",
      " [' ' ' ' ' ' ' ' ' ' ' ' ' ' ' ' ' ' ' ']\n",
      " [' ' ' ' ' ' ' ' 'A' ' ' ' ' ' ' ' ' ' ']\n",
      " [' ' ' ' ' ' ' ' ' ' ' ' ' ' ' ' ' ' ' ']\n",
      " [' ' ' ' 'A' 'A' ' ' ' ' ' ' ' ' ' ' ' ']\n",
      " [' ' ' ' ' ' ' ' ' ' ' ' ' ' ' ' ' ' ' ']\n",
      " [' ' ' ' ' ' ' ' ' ' ' ' ' ' ' ' ' ' ' ']\n",
      " [' ' ' ' ' ' ' ' ' ' ' ' ' ' ' ' ' ' ' ']\n",
      " [' ' ' ' 'X' 'X' 'X' ' ' ' ' ' ' ' ' ' ']\n",
      " [' ' ' ' ' ' ' ' ' ' ' ' ' ' ' ' ' ' ' ']]\n",
      "[[' ' ' ' ' ' ' ' ' ' ' ' ' ' ' ' ' ' ' ']\n",
      " [' ' ' ' ' ' 'O' ' ' ' ' ' ' ' ' ' ' ' ']\n",
      " [' ' ' ' ' ' 'O' ' ' ' ' ' ' ' ' 'O' ' ']\n",
      " [' ' ' ' ' ' 'O' ' ' ' ' ' ' ' ' ' ' ' ']\n",
      " [' ' ' ' 'O' 'O' 'O' 'O' ' ' ' ' ' ' ' ']\n",
      " [' ' 'O' ' ' ' ' ' ' ' ' ' ' ' ' ' ' 'O']\n",
      " [' ' 'O' ' ' ' ' ' ' ' ' 'O' ' ' ' ' 'O']\n",
      " ['O' ' ' ' ' ' ' ' ' ' ' ' ' ' ' ' ' ' ']\n",
      " ['O' ' ' ' ' ' ' 'O' 'O' 'O' 'O' 'O' ' ']\n",
      " [' ' ' ' ' ' ' ' ' ' ' ' ' ' ' ' ' ' ' ']]\n",
      "Tablero de la maquina\n",
      " [[' ' ' ' ' ' ' ' ' ' ' ' ' ' ' ' ' ' ' ']\n",
      " [' ' ' ' ' ' ' ' ' ' ' ' ' ' ' ' ' ' ' ']\n",
      " [' ' ' ' ' ' ' ' 'A' ' ' ' ' ' ' ' ' ' ']\n",
      " [' ' ' ' ' ' ' ' ' ' ' ' ' ' ' ' ' ' ' ']\n",
      " [' ' ' ' 'A' 'A' ' ' ' ' ' ' ' ' ' ' ' ']\n",
      " [' ' ' ' ' ' ' ' ' ' ' ' ' ' ' ' ' ' ' ']\n",
      " [' ' ' ' ' ' ' ' ' ' ' ' ' ' ' ' ' ' ' ']\n",
      " [' ' ' ' ' ' ' ' ' ' ' ' ' ' ' ' ' ' ' ']\n",
      " [' ' ' ' 'X' 'X' 'X' ' ' ' ' ' ' ' ' ' ']\n",
      " [' ' ' ' ' ' ' ' ' ' ' ' ' ' ' ' ' ' ' ']]\n",
      "Tablero de la maquina\n",
      " Has dado en el blanco!\n",
      " [[' ' ' ' ' ' ' ' ' ' ' ' ' ' ' ' ' ' ' ']\n",
      " [' ' ' ' ' ' ' ' ' ' ' ' ' ' ' ' ' ' ' ']\n",
      " [' ' ' ' ' ' ' ' 'A' ' ' ' ' ' ' ' ' ' ']\n",
      " [' ' ' ' ' ' ' ' ' ' ' ' ' ' ' ' ' ' ' ']\n",
      " [' ' ' ' 'A' 'A' ' ' ' ' ' ' ' ' ' ' ' ']\n",
      " [' ' ' ' ' ' ' ' ' ' ' ' ' ' ' ' ' ' ' ']\n",
      " [' ' ' ' ' ' ' ' ' ' ' ' ' ' ' ' ' ' ' ']\n",
      " [' ' ' ' ' ' ' ' ' ' ' ' ' ' ' ' ' ' ' ']\n",
      " [' ' 'X' 'X' 'X' 'X' ' ' ' ' ' ' ' ' ' ']\n",
      " [' ' ' ' ' ' ' ' ' ' ' ' ' ' ' ' ' ' ' ']]\n",
      "[[' ' ' ' ' ' ' ' ' ' ' ' ' ' ' ' ' ' ' ']\n",
      " [' ' ' ' ' ' 'O' ' ' ' ' ' ' ' ' ' ' ' ']\n",
      " [' ' ' ' ' ' 'O' ' ' ' ' ' ' ' ' 'O' ' ']\n",
      " [' ' ' ' ' ' 'O' ' ' ' ' ' ' ' ' ' ' ' ']\n",
      " [' ' ' ' 'O' 'O' 'O' 'O' ' ' ' ' ' ' ' ']\n",
      " [' ' 'O' ' ' ' ' ' ' ' ' ' ' ' ' ' ' 'O']\n",
      " [' ' 'O' ' ' ' ' ' ' ' ' 'O' ' ' ' ' 'O']\n",
      " ['O' ' ' ' ' ' ' ' ' ' ' ' ' ' ' ' ' ' ']\n",
      " ['O' ' ' ' ' ' ' 'O' 'O' 'O' 'O' 'O' ' ']\n",
      " [' ' ' ' ' ' ' ' ' ' ' ' ' ' ' ' ' ' ' ']]\n",
      "Tablero de la maquina\n",
      " [[' ' ' ' ' ' ' ' ' ' ' ' ' ' ' ' ' ' ' ']\n",
      " [' ' ' ' ' ' ' ' ' ' ' ' ' ' ' ' ' ' ' ']\n",
      " [' ' ' ' ' ' ' ' 'A' ' ' ' ' ' ' ' ' ' ']\n",
      " [' ' ' ' ' ' ' ' ' ' ' ' ' ' ' ' ' ' ' ']\n",
      " [' ' ' ' 'A' 'A' ' ' ' ' ' ' ' ' ' ' ' ']\n",
      " [' ' ' ' ' ' ' ' ' ' ' ' ' ' ' ' ' ' ' ']\n",
      " [' ' ' ' ' ' ' ' ' ' ' ' ' ' ' ' ' ' ' ']\n",
      " [' ' ' ' ' ' ' ' ' ' ' ' ' ' ' ' ' ' ' ']\n",
      " [' ' 'X' 'X' 'X' 'X' ' ' ' ' ' ' ' ' ' ']\n",
      " [' ' ' ' ' ' ' ' ' ' ' ' ' ' ' ' ' ' ' ']]\n"
     ]
    },
    {
     "ename": "ValueError",
     "evalue": "invalid literal for int() with base 10: ''",
     "output_type": "error",
     "traceback": [
      "\u001b[1;31m---------------------------------------------------------------------------\u001b[0m",
      "\u001b[1;31mValueError\u001b[0m                                Traceback (most recent call last)",
      "\u001b[1;32m~\\AppData\\Local\\Temp\\ipykernel_6764\\893222949.py\u001b[0m in \u001b[0;36m<module>\u001b[1;34m\u001b[0m\n\u001b[0;32m     21\u001b[0m             \u001b[0mtablero_vacio\u001b[0m\u001b[1;33m[\u001b[0m\u001b[0mx\u001b[0m\u001b[1;33m,\u001b[0m \u001b[0my\u001b[0m\u001b[1;33m]\u001b[0m \u001b[1;33m=\u001b[0m \u001b[1;34m'A'\u001b[0m\u001b[1;33m\u001b[0m\u001b[1;33m\u001b[0m\u001b[0m\n\u001b[0;32m     22\u001b[0m             \u001b[0mprint\u001b[0m\u001b[1;33m(\u001b[0m\u001b[1;34m\"Tablero de la maquina\\n\"\u001b[0m\u001b[1;33m,\u001b[0m \u001b[1;34m'Has hecho Agua!\\n'\u001b[0m\u001b[1;33m,\u001b[0m \u001b[0mtablero_vacio\u001b[0m\u001b[1;33m)\u001b[0m\u001b[1;33m\u001b[0m\u001b[1;33m\u001b[0m\u001b[0m\n\u001b[1;32m---> 23\u001b[1;33m \u001b[0mplayer1\u001b[0m\u001b[1;33m(\u001b[0m\u001b[0mtablero_auto_disp\u001b[0m\u001b[1;33m,\u001b[0m \u001b[0mtablero_jugador_disp\u001b[0m\u001b[1;33m,\u001b[0m \u001b[0mtablero_vacio\u001b[0m\u001b[1;33m,\u001b[0m \u001b[0mtablero_vacio2\u001b[0m\u001b[1;33m)\u001b[0m\u001b[1;33m\u001b[0m\u001b[1;33m\u001b[0m\u001b[0m\n\u001b[0m",
      "\u001b[1;32m~\\AppData\\Local\\Temp\\ipykernel_6764\\893222949.py\u001b[0m in \u001b[0;36mplayer1\u001b[1;34m(tablero_auto_disp, tablero_jugador_disp, tablero_vacio, tablero_vacio2)\u001b[0m\n\u001b[0;32m      3\u001b[0m         \u001b[0mprint\u001b[0m\u001b[1;33m(\u001b[0m\u001b[0mtablero_auto_disp\u001b[0m\u001b[1;33m)\u001b[0m\u001b[1;33m\u001b[0m\u001b[1;33m\u001b[0m\u001b[0m\n\u001b[0;32m      4\u001b[0m         \u001b[0mprint\u001b[0m\u001b[1;33m(\u001b[0m\u001b[1;34m'Tablero de la maquina\\n'\u001b[0m\u001b[1;33m,\u001b[0m\u001b[0mtablero_vacio\u001b[0m\u001b[1;33m)\u001b[0m\u001b[1;33m\u001b[0m\u001b[1;33m\u001b[0m\u001b[0m\n\u001b[1;32m----> 5\u001b[1;33m         \u001b[0mx\u001b[0m \u001b[1;33m=\u001b[0m \u001b[0mint\u001b[0m\u001b[1;33m(\u001b[0m\u001b[0minput\u001b[0m\u001b[1;33m(\u001b[0m\u001b[1;34m'J1, Introduce coordenada X'\u001b[0m\u001b[1;33m)\u001b[0m\u001b[1;33m)\u001b[0m\u001b[1;33m\u001b[0m\u001b[1;33m\u001b[0m\u001b[0m\n\u001b[0m\u001b[0;32m      6\u001b[0m         \u001b[1;32mif\u001b[0m \u001b[0mx\u001b[0m \u001b[1;33m<\u001b[0m \u001b[1;36m0\u001b[0m \u001b[1;32mor\u001b[0m \u001b[0mx\u001b[0m \u001b[1;33m>\u001b[0m \u001b[1;36m9\u001b[0m\u001b[1;33m:\u001b[0m\u001b[1;33m\u001b[0m\u001b[1;33m\u001b[0m\u001b[0m\n\u001b[0;32m      7\u001b[0m             \u001b[0mprint\u001b[0m\u001b[1;33m(\u001b[0m\u001b[1;34m'Num. no valido, tira otra vez'\u001b[0m\u001b[1;33m)\u001b[0m\u001b[1;33m\u001b[0m\u001b[1;33m\u001b[0m\u001b[0m\n",
      "\u001b[1;31mValueError\u001b[0m: invalid literal for int() with base 10: ''"
     ]
    }
   ],
   "source": [
    "def player1(tablero_auto_disp, tablero_jugador_disp, tablero_vacio, tablero_vacio2):\n",
    "    while 'O' in tablero_auto_disp and 'O' in tablero_jugador_disp:\n",
    "        print(tablero_auto_disp)\n",
    "        print('Tablero de la maquina\\n',tablero_vacio)\n",
    "        x = int(input('J1, Introduce coordenada X'))\n",
    "        if x < 0 or x > 9:\n",
    "            print('Num. no valido, tira otra vez')\n",
    "            continue\n",
    "        y = int(input('J1, Introduce coordenada Y'))\n",
    "        if y < 0 or y > 9:\n",
    "            print('Num. no valido, tira otra vez')\n",
    "            continue\n",
    "\n",
    "        if tablero_jugador_disp[x, y] == 'O':\n",
    "            tablero_jugador_disp[x, y] = 'X'\n",
    "            tablero_vacio[x, y] = 'X'\n",
    "            print(\"Tablero de la maquina\\n\", 'Has dado en el blanco!\\n', tablero_vacio)\n",
    "            continue\n",
    "        elif tablero_jugador_disp[x, y] == ' ':\n",
    "            tablero_jugador_disp[x, y] = 'A'\n",
    "            tablero_vacio[x, y] = 'A'\n",
    "            print(\"Tablero de la maquina\\n\", 'Has hecho Agua!\\n', tablero_vacio)\n",
    "player1(tablero_auto_disp, tablero_jugador_disp, tablero_vacio, tablero_vacio2)"
   ]
  }
 ],
 "metadata": {
  "kernelspec": {
   "display_name": "Python 3",
   "language": "python",
   "name": "python3"
  },
  "language_info": {
   "codemirror_mode": {
    "name": "ipython",
    "version": 3
   },
   "file_extension": ".py",
   "mimetype": "text/x-python",
   "name": "python",
   "nbconvert_exporter": "python",
   "pygments_lexer": "ipython3",
   "version": "3.7.4 (tags/v3.7.4:e09359112e, Jul  8 2019, 20:34:20) [MSC v.1916 64 bit (AMD64)]"
  },
  "orig_nbformat": 4,
  "vscode": {
   "interpreter": {
    "hash": "51fa0a07f6fd5e060b837a66c96d41582ff23df34b38f2e72cb4e3ebfbe13406"
   }
  }
 },
 "nbformat": 4,
 "nbformat_minor": 2
}
